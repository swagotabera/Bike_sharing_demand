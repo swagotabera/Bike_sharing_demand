{
  "nbformat": 4,
  "nbformat_minor": 0,
  "metadata": {
    "colab": {
      "name": "Untitled6.ipynb",
      "provenance": [],
      "toc_visible": true,
      "authorship_tag": "ABX9TyM1Z4tmlx/0Qn/mvxNotbFM",
      "include_colab_link": true
    },
    "kernelspec": {
      "name": "python3",
      "display_name": "Python 3"
    }
  },
  "cells": [
    {
      "cell_type": "markdown",
      "metadata": {
        "id": "view-in-github",
        "colab_type": "text"
      },
      "source": [
        "<a href=\"https://colab.research.google.com/github/swagotabera/Bike_sharing_demand/blob/master/CropProduction.ipynb\" target=\"_parent\"><img src=\"https://colab.research.google.com/assets/colab-badge.svg\" alt=\"Open In Colab\"/></a>"
      ]
    },
    {
      "cell_type": "code",
      "metadata": {
        "colab": {
          "base_uri": "https://localhost:8080/"
        },
        "id": "iCQWB8voTWfR",
        "outputId": "1065186a-4701-4097-af5e-c59995a2cf08"
      },
      "source": [
        "from google.colab import drive\r\n",
        "drive.mount('/content/grive')"
      ],
      "execution_count": 1,
      "outputs": [
        {
          "output_type": "stream",
          "text": [
            "Mounted at /content/grive\n"
          ],
          "name": "stdout"
        }
      ]
    },
    {
      "cell_type": "code",
      "metadata": {
        "colab": {
          "base_uri": "https://localhost:8080/"
        },
        "id": "sN29Mai-VjHb",
        "outputId": "bbbfca96-561c-4f59-f8b9-2bc998b8a5e0"
      },
      "source": [
        "import numpy as np\r\n",
        "import pandas as pd\r\n",
        "from numpy import loadtxt\r\n",
        "from numpy import unique\r\n",
        "from numpy import arange\r\n",
        "from sklearn.feature_selection import VarianceThreshold\r\n",
        "from matplotlib import pyplot\r\n",
        "from math import sqrt\r\n",
        "import pandas as pd\r\n",
        "import numpy as np\r\n",
        "import matplotlib.pyplot as plt\r\n",
        "\r\n",
        "from sklearn.model_selection import train_test_split\r\n",
        "from sklearn.linear_model import Lasso\r\n",
        "from sklearn import linear_model\r\n",
        "from sklearn.pipeline import Pipeline\r\n",
        "from sklearn.metrics import mean_squared_error, r2_score\r\n",
        "import statsmodels.api as sm\r\n",
        "from sklearn.svm import SVR\r\n",
        "from sklearn.tree import DecisionTreeRegressor\r\n",
        "from sklearn.linear_model import LinearRegression\r\n",
        "from sklearn.preprocessing import LabelEncoder\r\n",
        "import scipy.stats as stats\r\n",
        "from sklearn.impute import SimpleImputer\r\n",
        "from sklearn.compose import ColumnTransformer\r\n",
        "from sklearn.preprocessing import OneHotEncoder\r\n",
        "from sklearn.preprocessing import StandardScaler\r\n",
        "import seaborn as sns\r\n",
        "import pickle"
      ],
      "execution_count": 6,
      "outputs": [
        {
          "output_type": "stream",
          "text": [
            "/usr/local/lib/python3.7/dist-packages/statsmodels/tools/_testing.py:19: FutureWarning: pandas.util.testing is deprecated. Use the functions in the public API at pandas.testing instead.\n",
            "  import pandas.util.testing as tm\n"
          ],
          "name": "stderr"
        }
      ]
    },
    {
      "cell_type": "code",
      "metadata": {
        "id": "z2OBWFUbU0nk"
      },
      "source": [
        "X_train_Final=pd.read_csv(\"/content/grive/MyDrive/X_train_Final.csv\")\r\n",
        "X_test_Final=pd.read_csv(\"/content/grive/MyDrive/X_test_Final.csv\")\r\n",
        "y_train_Final=pd.read_csv(\"/content/grive/MyDrive/y_train_Final.csv\")\r\n",
        "y_test_Final=pd.read_csv(\"/content/grive/MyDrive/y_test_Final.csv\")\r\n"
      ],
      "execution_count": 19,
      "outputs": []
    },
    {
      "cell_type": "code",
      "metadata": {
        "colab": {
          "base_uri": "https://localhost:8080/"
        },
        "id": "yztp2VT5V_Ph",
        "outputId": "77185275-ec60-43a2-830b-59344c7c6469"
      },
      "source": [
        "X_train_Final.shape,y_train_Final.shape,X_test_Final.shape,y_test_Final.shape"
      ],
      "execution_count": 20,
      "outputs": [
        {
          "output_type": "execute_result",
          "data": {
            "text/plain": [
              "((168551, 7), (168551, 1), (73850, 7), (73850, 1))"
            ]
          },
          "metadata": {
            "tags": []
          },
          "execution_count": 20
        }
      ]
    },
    {
      "cell_type": "code",
      "metadata": {
        "colab": {
          "base_uri": "https://localhost:8080/"
        },
        "id": "uslbm0p5WE2J",
        "outputId": "0181ec5d-f376-4cde-ad2c-b8178cae1525"
      },
      "source": [
        "categorical = [var for var in X_train_Final.columns if X_train_Final[var].dtype=='O']\r\n",
        "print('There are {} categorical variables'.format(len(categorical)))"
      ],
      "execution_count": 21,
      "outputs": [
        {
          "output_type": "stream",
          "text": [
            "There are 4 categorical variables\n"
          ],
          "name": "stdout"
        }
      ]
    },
    {
      "cell_type": "code",
      "metadata": {
        "colab": {
          "base_uri": "https://localhost:8080/"
        },
        "id": "47llXJNIWnTJ",
        "outputId": "00266921-49e0-4c85-f43b-218f78688a7f"
      },
      "source": [
        "continous = [var for var in X_train_Final.columns if X_train_Final[var].dtype!='O']\r\n",
        "print('There are {} continous variables'.format(len(continous)))\r\n"
      ],
      "execution_count": 22,
      "outputs": [
        {
          "output_type": "stream",
          "text": [
            "There are 3 continous variables\n"
          ],
          "name": "stdout"
        }
      ]
    },
    {
      "cell_type": "code",
      "metadata": {
        "colab": {
          "base_uri": "https://localhost:8080/"
        },
        "id": "OvQKa5OrWpoy",
        "outputId": "e83c1cdf-517d-4108-f832-3c2d6905e9f1"
      },
      "source": [
        "# let's visualise the values of the discrete variables\r\n",
        "discrete = []\r\n",
        "\r\n",
        "for var in continous:\r\n",
        "    if len(X_train_Final[var].unique()) < 20 :\r\n",
        "        print(var, ' values: ', X_train_Final[var].unique())\r\n",
        "        discrete.append(var)\r\n",
        "print()\r\n",
        "print('There are {} discrete variables'.format(len(discrete)))\r\n"
      ],
      "execution_count": 23,
      "outputs": [
        {
          "output_type": "stream",
          "text": [
            "Crop_Year  values:  [2005 2000 2002 2003 2001 2004 2006 2010 2012 2011 2007 2013 2014 1997\n",
            " 2009 1999 1998 2008 2015]\n",
            "\n",
            "There are 1 discrete variables\n"
          ],
          "name": "stdout"
        }
      ]
    },
    {
      "cell_type": "code",
      "metadata": {
        "id": "7Mj0Y4FKWvMk"
      },
      "source": [
        "X_train_Final[discrete] = X_train_Final[discrete].astype('O')"
      ],
      "execution_count": 24,
      "outputs": []
    },
    {
      "cell_type": "code",
      "metadata": {
        "colab": {
          "base_uri": "https://localhost:8080/"
        },
        "id": "SVd7ZNAbWy-q",
        "outputId": "c1a2814c-0c90-427a-a7e3-6c5cfccf4ab8"
      },
      "source": [
        "# Modified categorical variables\r\n",
        "categorical = [var for var in X_train_Final.columns if X_train_Final[var].dtype=='O']\r\n",
        "print('There are {} categorical variables'.format(len(categorical)))\r\n"
      ],
      "execution_count": 25,
      "outputs": [
        {
          "output_type": "stream",
          "text": [
            "There are 5 categorical variables\n"
          ],
          "name": "stdout"
        }
      ]
    },
    {
      "cell_type": "code",
      "metadata": {
        "colab": {
          "base_uri": "https://localhost:8080/",
          "height": 204
        },
        "id": "4aEJszJxYcFb",
        "outputId": "36e4e5de-acfa-41d4-ecf3-499a719278aa"
      },
      "source": [
        "X_train_Final.head()"
      ],
      "execution_count": 26,
      "outputs": [
        {
          "output_type": "execute_result",
          "data": {
            "text/html": [
              "<div>\n",
              "<style scoped>\n",
              "    .dataframe tbody tr th:only-of-type {\n",
              "        vertical-align: middle;\n",
              "    }\n",
              "\n",
              "    .dataframe tbody tr th {\n",
              "        vertical-align: top;\n",
              "    }\n",
              "\n",
              "    .dataframe thead th {\n",
              "        text-align: right;\n",
              "    }\n",
              "</style>\n",
              "<table border=\"1\" class=\"dataframe\">\n",
              "  <thead>\n",
              "    <tr style=\"text-align: right;\">\n",
              "      <th></th>\n",
              "      <th>State_Name</th>\n",
              "      <th>District_Name</th>\n",
              "      <th>Crop_Year</th>\n",
              "      <th>Season</th>\n",
              "      <th>Crop</th>\n",
              "      <th>Area</th>\n",
              "      <th>Production</th>\n",
              "    </tr>\n",
              "  </thead>\n",
              "  <tbody>\n",
              "    <tr>\n",
              "      <th>0</th>\n",
              "      <td>Andaman &amp; Nicobar Island</td>\n",
              "      <td>NICOBARS</td>\n",
              "      <td>2005</td>\n",
              "      <td>Kharif</td>\n",
              "      <td>Rice</td>\n",
              "      <td>2.09</td>\n",
              "      <td>12.06</td>\n",
              "    </tr>\n",
              "    <tr>\n",
              "      <th>1</th>\n",
              "      <td>Andaman &amp; Nicobar Island</td>\n",
              "      <td>NICOBARS</td>\n",
              "      <td>2000</td>\n",
              "      <td>Kharif</td>\n",
              "      <td>Other Kharif pulses</td>\n",
              "      <td>2.00</td>\n",
              "      <td>1.00</td>\n",
              "    </tr>\n",
              "    <tr>\n",
              "      <th>2</th>\n",
              "      <td>Andaman &amp; Nicobar Island</td>\n",
              "      <td>NICOBARS</td>\n",
              "      <td>2002</td>\n",
              "      <td>Kharif</td>\n",
              "      <td>Rice</td>\n",
              "      <td>189.20</td>\n",
              "      <td>510.84</td>\n",
              "    </tr>\n",
              "    <tr>\n",
              "      <th>3</th>\n",
              "      <td>Andaman &amp; Nicobar Island</td>\n",
              "      <td>NICOBARS</td>\n",
              "      <td>2003</td>\n",
              "      <td>Kharif</td>\n",
              "      <td>Rice</td>\n",
              "      <td>52.00</td>\n",
              "      <td>90.17</td>\n",
              "    </tr>\n",
              "    <tr>\n",
              "      <th>4</th>\n",
              "      <td>Andaman &amp; Nicobar Island</td>\n",
              "      <td>NICOBARS</td>\n",
              "      <td>2001</td>\n",
              "      <td>Kharif</td>\n",
              "      <td>Arecanut</td>\n",
              "      <td>1254.00</td>\n",
              "      <td>2061.00</td>\n",
              "    </tr>\n",
              "  </tbody>\n",
              "</table>\n",
              "</div>"
            ],
            "text/plain": [
              "                 State_Name District_Name  ...     Area Production\n",
              "0  Andaman & Nicobar Island      NICOBARS  ...     2.09      12.06\n",
              "1  Andaman & Nicobar Island      NICOBARS  ...     2.00       1.00\n",
              "2  Andaman & Nicobar Island      NICOBARS  ...   189.20     510.84\n",
              "3  Andaman & Nicobar Island      NICOBARS  ...    52.00      90.17\n",
              "4  Andaman & Nicobar Island      NICOBARS  ...  1254.00    2061.00\n",
              "\n",
              "[5 rows x 7 columns]"
            ]
          },
          "metadata": {
            "tags": []
          },
          "execution_count": 26
        }
      ]
    },
    {
      "cell_type": "code",
      "metadata": {
        "colab": {
          "base_uri": "https://localhost:8080/"
        },
        "id": "oTfXfx7rW3ia",
        "outputId": "bf08bc9c-bfcc-4fc7-cba2-e1540743df8b"
      },
      "source": [
        "# let's order the labels according to the mean target value\r\n",
        "X_train_Final.groupby(['State_Name', 'District_Name', 'Crop_Year', 'Season', 'Crop'])[ 'Production'].mean().sort_values()\r\n"
      ],
      "execution_count": 27,
      "outputs": [
        {
          "output_type": "execute_result",
          "data": {
            "text/plain": [
              "State_Name      District_Name  Crop_Year  Season      Crop      \n",
              "Gujarat         KHEDA          1999       Kharif      Moth          0.000000e+00\n",
              "Madhya Pradesh  RAISEN         2003       Whole Year  Papaya        0.000000e+00\n",
              "                                                      Pome Fruit    0.000000e+00\n",
              "                                                      Tomato        0.000000e+00\n",
              "                RAJGARH        2002       Whole Year  Banana        0.000000e+00\n",
              "                                                                        ...     \n",
              "Kerala          KOZHIKODE      2014       Whole Year  Coconut       1.001000e+09\n",
              "                               1999       Whole Year  Coconut       1.059000e+09\n",
              "                MALAPPURAM     2009       Whole Year  Coconut       1.063000e+09\n",
              "Tamil Nadu      COIMBATORE     2013       Whole Year  Coconut       1.212000e+09\n",
              "                               2011       Whole Year  Coconut       1.250800e+09\n",
              "Name: Production, Length: 168551, dtype: float64"
            ]
          },
          "metadata": {
            "tags": []
          },
          "execution_count": 27
        }
      ]
    },
    {
      "cell_type": "code",
      "metadata": {
        "id": "2d9TCpgZYxsZ"
      },
      "source": [
        "def find_category_mappings(df, variable, target):\r\n",
        "\r\n",
        "    # first  we generate an ordered list with the labels\r\n",
        "    ordered_labels = X_train_Final.groupby([variable])[target].mean().sort_values().index\r\n",
        "    # return the dictionary with mappings\r\n",
        "    return {k: i for i, k in enumerate(ordered_labels, 0)}\r\n",
        "def integer_encode(train, test, variable, ordinal_mapping):\r\n",
        "    X_train_Final[variable] = X_train_Final[variable].map(ordinal_mapping)\r\n",
        "    X_test_Final[variable] = X_test_Final[variable].map(ordinal_mapping)"
      ],
      "execution_count": 28,
      "outputs": []
    },
    {
      "cell_type": "code",
      "metadata": {
        "id": "KzZx6CkUY5pJ"
      },
      "source": [
        "# and now we run a loop over the remaining categorical variables\r\n",
        "for variable in ['State_Name', 'District_Name', 'Crop_Year', 'Season', 'Crop', \r\n",
        "       'Production']:\r\n",
        "    mappings = find_category_mappings(X_train_Final, variable, 'Production')\r\n",
        "    integer_encode(X_train_Final, X_test_Final, variable, mappings)"
      ],
      "execution_count": 29,
      "outputs": []
    },
    {
      "cell_type": "code",
      "metadata": {
        "id": "JhBmepUrY-ML"
      },
      "source": [
        "X_train_Final.drop(columns='Production', axis=1, inplace=True )\r\n",
        "X_test_Final.drop(columns='Production', axis=1, inplace=True )"
      ],
      "execution_count": 30,
      "outputs": []
    },
    {
      "cell_type": "code",
      "metadata": {
        "colab": {
          "base_uri": "https://localhost:8080/",
          "height": 204
        },
        "id": "2-FYg51dZBjD",
        "outputId": "645b348b-8f31-477d-9e14-917f222c057d"
      },
      "source": [
        "X_train_Final.head()"
      ],
      "execution_count": 31,
      "outputs": [
        {
          "output_type": "execute_result",
          "data": {
            "text/html": [
              "<div>\n",
              "<style scoped>\n",
              "    .dataframe tbody tr th:only-of-type {\n",
              "        vertical-align: middle;\n",
              "    }\n",
              "\n",
              "    .dataframe tbody tr th {\n",
              "        vertical-align: top;\n",
              "    }\n",
              "\n",
              "    .dataframe thead th {\n",
              "        text-align: right;\n",
              "    }\n",
              "</style>\n",
              "<table border=\"1\" class=\"dataframe\">\n",
              "  <thead>\n",
              "    <tr style=\"text-align: right;\">\n",
              "      <th></th>\n",
              "      <th>State_Name</th>\n",
              "      <th>District_Name</th>\n",
              "      <th>Crop_Year</th>\n",
              "      <th>Season</th>\n",
              "      <th>Crop</th>\n",
              "      <th>Area</th>\n",
              "    </tr>\n",
              "  </thead>\n",
              "  <tbody>\n",
              "    <tr>\n",
              "      <th>0</th>\n",
              "      <td>31</td>\n",
              "      <td>630</td>\n",
              "      <td>14</td>\n",
              "      <td>3</td>\n",
              "      <td>117</td>\n",
              "      <td>2.09</td>\n",
              "    </tr>\n",
              "    <tr>\n",
              "      <th>1</th>\n",
              "      <td>31</td>\n",
              "      <td>630</td>\n",
              "      <td>11</td>\n",
              "      <td>3</td>\n",
              "      <td>51</td>\n",
              "      <td>2.00</td>\n",
              "    </tr>\n",
              "    <tr>\n",
              "      <th>2</th>\n",
              "      <td>31</td>\n",
              "      <td>630</td>\n",
              "      <td>6</td>\n",
              "      <td>3</td>\n",
              "      <td>117</td>\n",
              "      <td>189.20</td>\n",
              "    </tr>\n",
              "    <tr>\n",
              "      <th>3</th>\n",
              "      <td>31</td>\n",
              "      <td>630</td>\n",
              "      <td>10</td>\n",
              "      <td>3</td>\n",
              "      <td>117</td>\n",
              "      <td>52.00</td>\n",
              "    </tr>\n",
              "    <tr>\n",
              "      <th>4</th>\n",
              "      <td>31</td>\n",
              "      <td>630</td>\n",
              "      <td>2</td>\n",
              "      <td>3</td>\n",
              "      <td>97</td>\n",
              "      <td>1254.00</td>\n",
              "    </tr>\n",
              "  </tbody>\n",
              "</table>\n",
              "</div>"
            ],
            "text/plain": [
              "   State_Name  District_Name  Crop_Year  Season  Crop     Area\n",
              "0          31            630         14       3   117     2.09\n",
              "1          31            630         11       3    51     2.00\n",
              "2          31            630          6       3   117   189.20\n",
              "3          31            630         10       3   117    52.00\n",
              "4          31            630          2       3    97  1254.00"
            ]
          },
          "metadata": {
            "tags": []
          },
          "execution_count": 31
        }
      ]
    },
    {
      "cell_type": "code",
      "metadata": {
        "id": "d1E_3W4iZFhR"
      },
      "source": [
        "# Missing numerical data\r\n",
        "\r\n",
        "X_train_Final=pd.DataFrame(X_train_Final)\r\n",
        "for col in X_train_Final:\r\n",
        "    if X_train_Final[col].isnull().mean() > 0:\r\n",
        "        print(col, X_train_Final[col].isnull().mean())"
      ],
      "execution_count": 32,
      "outputs": []
    },
    {
      "cell_type": "code",
      "metadata": {
        "colab": {
          "base_uri": "https://localhost:8080/"
        },
        "id": "AqxO6m_-ZKi5",
        "outputId": "7b4602d4-573a-4774-c8fd-c0f9c7bd1323"
      },
      "source": [
        "X_test_Final=pd.DataFrame(X_test_Final)\r\n",
        "for col in X_test_Final:\r\n",
        "    if X_test_Final[col].isnull().mean() > 0:\r\n",
        "        print(col, X_test_Final[col].isnull().mean())"
      ],
      "execution_count": 33,
      "outputs": [
        {
          "output_type": "stream",
          "text": [
            "Crop 1.3540961408259987e-05\n"
          ],
          "name": "stdout"
        }
      ]
    },
    {
      "cell_type": "code",
      "metadata": {
        "id": "ywLeMpeJZPxR"
      },
      "source": [
        "from sklearn.impute import SimpleImputer\r\n",
        "imputer = SimpleImputer(missing_values=np.nan, strategy='median')\r\n",
        "imputer.fit(X_train_Final[[\"District_Name\" , \"Crop\"]])\r\n",
        "X_train_Final[[\"District_Name\" , \"Crop\"]] = imputer.transform(X_train_Final[[\"District_Name\" , \"Crop\"]])\r\n",
        "X_test_Final[[\"District_Name\" , \"Crop\"]] = imputer.transform(X_test_Final[[\"District_Name\" , \"Crop\"]])\r\n"
      ],
      "execution_count": 35,
      "outputs": []
    },
    {
      "cell_type": "code",
      "metadata": {
        "id": "LAzNQsV2ZXsb"
      },
      "source": [
        "y_train_Final=y_train_Final.values.ravel()\r\n",
        "y_test_Final=y_test_Final.values.ravel()"
      ],
      "execution_count": 36,
      "outputs": []
    },
    {
      "cell_type": "code",
      "metadata": {
        "colab": {
          "base_uri": "https://localhost:8080/"
        },
        "id": "xRGRaARSZbii",
        "outputId": "5284372b-fc77-45a8-c7b7-7227183d9de1"
      },
      "source": [
        "from sklearn.model_selection import GridSearchCV\r\n",
        "from sklearn.ensemble import RandomForestRegressor\r\n",
        "RFRegression=Pipeline([\r\n",
        "('Decision',RandomForestRegressor(max_depth=2000, max_features= 'sqrt', n_estimators=200,bootstrap='True',\r\n",
        "                                  random_state =1,min_samples_split=2))\r\n",
        "])\r\n",
        "RFRegression.fit(X_train_Final,y_train_Final)\r\n",
        "#prediction\r\n",
        "X_train_pred=RFRegression.predict(X_train_Final)\r\n",
        "X_test_pred=RFRegression.predict(X_test_Final)\r\n",
        "print('train r2: {}'.format(r2_score(y_train_Final,X_train_pred)))\r\n",
        "\r\n",
        "print('test r2: {}'.format(r2_score(y_test_Final,X_test_pred)))"
      ],
      "execution_count": 37,
      "outputs": [
        {
          "output_type": "stream",
          "text": [
            "train r2: 0.9909191681072109\n",
            "test r2: 0.966402376965777\n"
          ],
          "name": "stdout"
        }
      ]
    },
    {
      "cell_type": "code",
      "metadata": {
        "id": "f_8QscDtZ3_K"
      },
      "source": [
        "pickle.dump(RFRegression,open('model.pkl','wb'))"
      ],
      "execution_count": 38,
      "outputs": []
    }
  ]
}